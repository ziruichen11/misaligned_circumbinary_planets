{
 "cells": [
  {
   "cell_type": "code",
   "execution_count": null,
   "id": "42a3e0f8",
   "metadata": {},
   "outputs": [],
   "source": [
    "import math\n",
    "from random import random"
   ]
  },
  {
   "cell_type": "code",
   "execution_count": null,
   "id": "5c463ab4",
   "metadata": {},
   "outputs": [],
   "source": [
    "# input signature (transits per epoch sequences) as obtained from simulations\n",
    "signature = []"
   ]
  },
  {
   "cell_type": "code",
   "execution_count": null,
   "id": "769f4d33",
   "metadata": {},
   "outputs": [],
   "source": [
    "broken_systems = 0\n",
    "\n",
    "filtered_signature = []\n",
    "for i in range(len(signature)):\n",
    "    list_of_gaps = []\n",
    "    index = -1\n",
    "    gap = 0\n",
    "    for j in range(len(signature[i])):\n",
    "        if (signature[i][j] != 0 and index == -1):\n",
    "            index = j\n",
    "        elif (signature[i][j] == 0 and index != -1):\n",
    "            gap = gap + 1\n",
    "        elif (signature[i][j] != 0 and index != -1):\n",
    "            list_of_gaps.append(gap)\n",
    "            gap = 0\n",
    "            index = j\n",
    "    is_broken_system = 0\n",
    "    for k in range(len(list_of_gaps)):\n",
    "        if (list_of_gaps[k] != list_of_gaps[0]):\n",
    "            is_broken_system = 1\n",
    "            broken_systems += 1\n",
    "            break\n",
    "            \n",
    "    if (is_broken_system == 0):\n",
    "        filtered_signature.append(signature[i])\n",
    "        \n",
    "print (1.0*broken_systems / len(signature))"
   ]
  },
  {
   "cell_type": "code",
   "execution_count": null,
   "id": "265397b4",
   "metadata": {},
   "outputs": [],
   "source": [
    "signature_total = filtered_signature"
   ]
  },
  {
   "cell_type": "code",
   "execution_count": null,
   "id": "192092c7",
   "metadata": {},
   "outputs": [],
   "source": [
    "from random import random\n",
    "# use 80% of the data to learn and 20% to validate\n",
    "\n",
    "learn_signature_total = []\n",
    "test_signature_total = []\n",
    "\n",
    "for i in range(len(signature_total)):\n",
    "    x = random()\n",
    "    if (x < 0.8):\n",
    "        learn_signature_total.append(signature_total[i])\n",
    "    elif (x >= 0.8):\n",
    "        test_signature_total.append(signature_total[i])\n",
    "\n"
   ]
  },
  {
   "cell_type": "markdown",
   "id": "be8d0daa",
   "metadata": {},
   "source": [
    "# Modal Benchmark"
   ]
  },
  {
   "cell_type": "code",
   "execution_count": null,
   "id": "43754f1a",
   "metadata": {},
   "outputs": [],
   "source": [
    "learn_signature_total_zeroes = 0\n",
    "learn_signature_total_ones = 0\n",
    "learn_signature_total_twos = 0\n",
    "learn_signature_total_threes = 0\n",
    "learn_signature_total_greater_than_threes = 0\n",
    "\n",
    "for i in range(len(learn_signature_total)):\n",
    "    for j in range(len(learn_signature_total[i])):\n",
    "        if (learn_signature_total[i][j] == 0):\n",
    "            learn_signature_total_zeroes = learn_signature_total_zeroes + 1\n",
    "        elif (learn_signature_total[i][j] == 1):\n",
    "            learn_signature_total_ones = learn_signature_total_ones + 1\n",
    "        elif (learn_signature_total[i][j] == 2):\n",
    "            learn_signature_total_twos = learn_signature_total_twos + 1\n",
    "        elif (learn_signature_total[i][j] == 3):\n",
    "            learn_signature_total_threes = learn_signature_total_threes + 1\n",
    "        else:\n",
    "            learn_signature_total_greater_than_threes = learn_signature_total_greater_than_threes + 1\n",
    "\n",
    "counts = [learn_signature_total_zeroes, learn_signature_total_ones, learn_signature_total_twos, learn_signature_total_threes, learn_signature_total_greater_than_threes]\n",
    "mode = counts.index(max(counts))\n",
    "\n",
    "\n",
    "test_signature_correct_prediction = 0\n",
    "test_signature_total_count = 0\n",
    "\n",
    "for i in range(len(test_signature_total)):\n",
    "    for j in range(len(test_signature_total[i])):\n",
    "        test_signature_total_count += 1\n",
    "        if (test_signature_total[i][j] == mode):\n",
    "            test_signature_correct_prediction = test_signature_correct_prediction + 1\n",
    "\n",
    "modal_benchmark = test_signature_correct_prediction*1.0 / test_signature_total_count\n",
    "\n",
    "print (modal_benchmark)"
   ]
  },
  {
   "cell_type": "markdown",
   "id": "e42a9e24",
   "metadata": {},
   "source": [
    "# Random Benchmark"
   ]
  },
  {
   "cell_type": "code",
   "execution_count": null,
   "id": "50e5ac64",
   "metadata": {},
   "outputs": [],
   "source": [
    "import random\n",
    "\n",
    "total_slots = 0\n",
    "\n",
    "for i in range(len(test_signature_total)):\n",
    "    for j in range(len(test_signature_total[i])):\n",
    "        total_slots += 1\n",
    "        \n",
    "random_benchmark_correct = 0\n",
    "random_prediction = 0\n",
    "\n",
    "for i in range(len(test_signature_total)):\n",
    "    for j in range(len(test_signature_total[i])):\n",
    "        choice_1 = random.choice(learn_signature_total)\n",
    "        random_prediction = random.choice(choice_1)\n",
    "        \n",
    "        if (random_prediction == test_signature_total[i][j]):\n",
    "            random_benchmark_correct += 1\n",
    "            \n",
    "print (1.0*random_benchmark_correct/total_slots)"
   ]
  },
  {
   "cell_type": "code",
   "execution_count": null,
   "id": "f4b353d8",
   "metadata": {},
   "outputs": [],
   "source": []
  }
 ],
 "metadata": {
  "kernelspec": {
   "display_name": "Python 3",
   "language": "python",
   "name": "python3"
  },
  "language_info": {
   "codemirror_mode": {
    "name": "ipython",
    "version": 3
   },
   "file_extension": ".py",
   "mimetype": "text/x-python",
   "name": "python",
   "nbconvert_exporter": "python",
   "pygments_lexer": "ipython3",
   "version": "3.8.8"
  }
 },
 "nbformat": 4,
 "nbformat_minor": 5
}
